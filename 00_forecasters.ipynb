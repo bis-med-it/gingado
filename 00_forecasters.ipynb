{
  "cells": [
    {
      "cell_type": "raw",
      "metadata": {},
      "source": [
        "---\n",
        "description: Machine learning-based forecasters\n",
        "output-file: forecasters.html\n",
        "title: Forecasters\n",
        "warning: false\n",
        "---"
      ],
      "id": "995a18b3"
    },
    {
      "cell_type": "code",
      "metadata": {},
      "source": [
        "#| echo: false\n",
        "#| output: false\n",
        "%load_ext autoreload\n",
        "%autoreload 2"
      ],
      "id": "56329567",
      "execution_count": null,
      "outputs": []
    },
    {
      "cell_type": "markdown",
      "metadata": {},
      "source": [
        "Forecasting time series is one of the most traditional activities in economic practice. Machine learning-based methods are promising techniques across many domains due to their flexibility to fit complex data generation processes and to take up alternative data as input.\n",
        "\n",
        "In the last years, the field of *nowcasting* has gained attention.\n",
        "\n",
        "# Temporal Fusion Transformer\n",
        "\n",
        "The Temporal Fusion Transformer (TFT) due to @lim2021temporal is a neural network architecture that combines several desirable characteristics for nowcasting or forecasting:\n",
        "\n",
        "- ...\n",
        "- ...\n",
        "- ...\n",
        "\n",
        "The current implementation is an adaptation that takes in mixed-frequency data (ie, some input data are measured daily, others monthly, etc). This version, called TFT-MF described in more detail in @sec-TFTMF. The several building blocks of the TFT-MF model are also accessible to the user in the following sections, in case they decide to adapt or create their own forecasting architecture.\n",
        "\n",
        "## Gated Linear Unit (GLU) {#sec-GLU}\n",
        "\n",
        "@dauphin2017language\n",
        "\n",
        "The GLU is a key part of the Gated Residual Network, described in @sec-GRN.\n",
        "\n",
        "## Gated Residual Network (GRN) {#sec-GRN}\n"
      ],
      "id": "157cb12e"
    },
    {
      "cell_type": "code",
      "metadata": {},
      "source": [
        "show_doc"
      ],
      "id": "e7478587",
      "execution_count": null,
      "outputs": []
    },
    {
      "cell_type": "markdown",
      "metadata": {},
      "source": [
        "## Variable Selection Network (VSN) {#sec-VSN}\n",
        "\n",
        "## TFT-MF {#sec-TFTMF}\n",
        "\n",
        "The Temporal Fusion Transformer - Mixed Frequency (TFT-MF) is an adaptation of the original TFT.\n",
        "\n",
        "# References"
      ],
      "id": "7d3bb912"
    }
  ],
  "metadata": {
    "kernelspec": {
      "name": "python3",
      "language": "python",
      "display_name": "Python 3 (ipykernel)"
    }
  },
  "nbformat": 4,
  "nbformat_minor": 5
}